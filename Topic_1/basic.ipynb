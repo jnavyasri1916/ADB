{
 "cells": [
  {
   "cell_type": "code",
   "execution_count": 3,
   "metadata": {},
   "outputs": [],
   "source": [
    "import sqlite3"
   ]
  },
  {
   "cell_type": "code",
   "execution_count": 4,
   "metadata": {},
   "outputs": [],
   "source": [
    "connection = sqlite3.connect(\"pets.db\")\n",
    "cursor = connection.cursor()"
   ]
  },
  {
   "cell_type": "code",
   "execution_count": 5,
   "metadata": {},
   "outputs": [],
   "source": [
    "cursor.execute(\"\"\"create table if not exists pets (\n",
    "               id integer primary key autoincrement,\n",
    "        name text not null,\n",
    "        type text not null,\n",
    "        age integer,\n",
    "        owner text\n",
    "    )\n",
    "\"\"\")\n",
    "connection.commit()"
   ]
  },
  {
   "cell_type": "code",
   "execution_count": 7,
   "metadata": {},
   "outputs": [],
   "source": [
    "name = \"Tinku\"\n",
    "cursor.execute(\"\"\" insert into pets (name, type, age, owner) \n",
    "        values (?,?,?,?)\"\"\",(name,\"dog\",3,\"Navya\"))\n",
    "connection.commit()"
   ]
  },
  {
   "cell_type": "code",
   "execution_count": 8,
   "metadata": {},
   "outputs": [],
   "source": [
    "for name in [\"lutki\",\"chutki\",\"heidi\"]:\n",
    "    cursor.execute(\"\"\"\n",
    "        insert \n",
    "            into pets(name, type, age, owner) \n",
    "            values (?,?,?,?)\n",
    "        \"\"\",(name,\"dog\",9,\"Navya\"))\n",
    "    connection.commit()"
   ]
  },
  {
   "cell_type": "code",
   "execution_count": 9,
   "metadata": {},
   "outputs": [],
   "source": [
    "for name in [\"sandy\",\"muffin\",\"shadow\"]:\n",
    "    cursor.execute(\"\"\"\n",
    "        insert \n",
    "            into pets(name, type, age, owner) \n",
    "            values (?,?,?,?)\n",
    "        \"\"\",(name,\"cat\",9,\"greg\"))\n",
    "    connection.commit()"
   ]
  },
  {
   "cell_type": "code",
   "execution_count": 10,
   "metadata": {},
   "outputs": [
    {
     "name": "stdout",
     "output_type": "stream",
     "text": [
      "(1, 'Tinku', 'dog', 3, 'Navya')\n",
      "(2, 'lutki', 'dog', 9, 'Navya')\n",
      "(3, 'chutki', 'dog', 9, 'Navya')\n",
      "(4, 'heidi', 'dog', 9, 'Navya')\n"
     ]
    }
   ],
   "source": [
    "cursor.execute(\"\"\"select * from pets where type=?\"\"\",(\"dog\",))\n",
    "rows = cursor.fetchall()\n",
    "for row in rows:\n",
    "    print(row)"
   ]
  },
  {
   "cell_type": "code",
   "execution_count": 11,
   "metadata": {},
   "outputs": [],
   "source": [
    "cursor.execute(\"\"\"\n",
    "    update pets\n",
    "    set age = ? \n",
    "    where name = ?\n",
    "    \"\"\", (1,\"lutki\"))\n",
    "connection.commit()"
   ]
  },
  {
   "cell_type": "code",
   "execution_count": 12,
   "metadata": {},
   "outputs": [],
   "source": [
    "cursor.execute(\"\"\"\n",
    "    delete from pets\n",
    "    where type = ?\n",
    "    \"\"\", (\"cat\",))\n",
    "connection.commit()"
   ]
  },
  {
   "cell_type": "code",
   "execution_count": 15,
   "metadata": {},
   "outputs": [
    {
     "name": "stdout",
     "output_type": "stream",
     "text": [
      "(1, 'Tinku', 'dog', 3, 'Navya')\n",
      "(2, 'lutki', 'dog', 1, 'Navya')\n",
      "(3, 'chutki', 'dog', 9, 'Navya')\n",
      "(4, 'heidi', 'dog', 9, 'Navya')\n"
     ]
    }
   ],
   "source": [
    "cursor.execute(\"\"\"select * from pets \"\"\")\n",
    "rows = cursor.fetchall()\n",
    "for row in rows:\n",
    "    print(row)"
   ]
  }
 ],
 "metadata": {
  "kernelspec": {
   "display_name": "Python 3",
   "language": "python",
   "name": "python3"
  },
  "language_info": {
   "codemirror_mode": {
    "name": "ipython",
    "version": 3
   },
   "file_extension": ".py",
   "mimetype": "text/x-python",
   "name": "python",
   "nbconvert_exporter": "python",
   "pygments_lexer": "ipython3",
   "version": "3.12.1"
  }
 },
 "nbformat": 4,
 "nbformat_minor": 2
}
