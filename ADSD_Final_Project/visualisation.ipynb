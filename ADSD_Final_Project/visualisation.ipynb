{
 "cells": [
  {
   "cell_type": "code",
   "execution_count": null,
   "id": "1866a9d4",
   "metadata": {
    "vscode": {
     "languageId": "plaintext"
    }
   },
   "outputs": [],
   "source": [
    "import pandas as pd\n",
    "import matplotlib.pyplot as plt\n",
    "\n",
    "# Load data\n",
    "df = pd.read_csv('employees_data.csv')\n",
    "\n",
    "# Group by department\n",
    "grouped = df.groupby('department').agg({\n",
    "    'salary': 'mean',\n",
    "    'performance_rating': 'mean'\n",
    "}).reset_index()\n",
    "\n",
    "# Plot\n",
    "fig, ax1 = plt.subplots(figsize=(10, 6))\n",
    "\n",
    "# Bar chart (average salary)\n",
    "bar = ax1.bar(grouped['department'], grouped['salary'], color='skyblue', label='Avg Salary')\n",
    "ax1.set_ylabel('Average Salary', color='blue')\n",
    "ax1.set_xlabel('Department')\n",
    "ax1.tick_params(axis='y', labelcolor='blue')\n",
    "\n",
    "# Line chart (performance rating)\n",
    "ax2 = ax1.twinx()\n",
    "line = ax2.plot(grouped['department'], grouped['performance_rating'], color='red', marker='o', label='Avg Performance Rating')\n",
    "ax2.set_ylabel('Average Performance Rating', color='red')\n",
    "ax2.tick_params(axis='y', labelcolor='red')\n",
    "\n",
    "# Titles and grid\n",
    "plt.title('Avg Salary (Bar) vs Performance Rating (Line) per Department')\n",
    "ax1.grid(True, linestyle='--', alpha=0.5)\n",
    "\n",
    "# Combine legends\n",
    "lines_labels = [bar, line[0]]\n",
    "labels = [l.get_label() for l in lines_labels]\n",
    "ax1.legend(lines_labels, labels, loc='upper left')\n",
    "\n",
    "plt.tight_layout()\n",
    "plt.show()"
   ]
  }
 ],
 "metadata": {
  "language_info": {
   "name": "python"
  }
 },
 "nbformat": 4,
 "nbformat_minor": 5
}
