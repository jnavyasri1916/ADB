{
 "cells": [
  {
   "cell_type": "code",
   "execution_count": 5,
   "metadata": {},
   "outputs": [
    {
     "name": "stdout",
     "output_type": "stream",
     "text": [
      "Reading package lists... Done\n",
      "\u001b[1;31mE: \u001b[0mList directory /var/lib/apt/lists/partial is missing. - Acquire (13: Permission denied)\u001b[0m\n",
      "Tables: [('Album',), ('Artist',), ('Customer',), ('Employee',), ('Genre',), ('Invoice',), ('InvoiceLine',), ('MediaType',), ('Playlist',), ('PlaylistTrack',), ('Track',)]\n"
     ]
    }
   ],
   "source": [
    "import sqlite3\n",
    "import pandas as pd\n",
    "import time\n",
    "import matplotlib.pyplot as plt\n",
    "import os\n",
    "\n",
    "# Install SQLite and required dependencies if not installed\n",
    "!apt update && apt install sqlite3 -y\n",
    "\n",
    "# Download Chinook database if not already present\n",
    "if not os.path.exists(\"Chinook.sqlite\"):\n",
    "    !wget https://github.com/lerocha/chinook-database/raw/master/ChinookDatabase/DataSources/Chinook_Sqlite.sqlite -O Chinook.sqlite\n",
    "# Connect to the Chinook database\n",
    "con = sqlite3.connect(\"Chinook.sqlite\")\n",
    "cur = con.cursor()\n",
    "\n",
    "# Verify tables\n",
    "cur.execute(\"SELECT name FROM sqlite_master WHERE type='table';\")\n",
    "tables = cur.fetchall()\n",
    "print(\"Tables:\", tables)"
   ]
  },
  {
   "cell_type": "code",
   "execution_count": 6,
   "metadata": {},
   "outputs": [
    {
     "name": "stdout",
     "output_type": "stream",
     "text": [
      "   CustomerId  FirstName     LastName  \\\n",
      "0           1       Luís    Gonçalves   \n",
      "1           2     Leonie       Köhler   \n",
      "2           3   François     Tremblay   \n",
      "3           4      Bjørn       Hansen   \n",
      "4           5  František  Wichterlová   \n",
      "\n",
      "                                            Company  \\\n",
      "0  Embraer - Empresa Brasileira de Aeronáutica S.A.   \n",
      "1                                              None   \n",
      "2                                              None   \n",
      "3                                              None   \n",
      "4                                  JetBrains s.r.o.   \n",
      "\n",
      "                           Address                 City State         Country  \\\n",
      "0  Av. Brigadeiro Faria Lima, 2170  São José dos Campos    SP          Brazil   \n",
      "1          Theodor-Heuss-Straße 34            Stuttgart  None         Germany   \n",
      "2                1498 rue Bélanger             Montréal    QC          Canada   \n",
      "3                 Ullevålsveien 14                 Oslo  None          Norway   \n",
      "4                    Klanova 9/506               Prague  None  Czech Republic   \n",
      "\n",
      "  PostalCode               Phone                 Fax  \\\n",
      "0  12227-000  +55 (12) 3923-5555  +55 (12) 3923-5566   \n",
      "1      70174    +49 0711 2842222                None   \n",
      "2    H2G 1A7   +1 (514) 721-4711                None   \n",
      "3       0171     +47 22 44 22 22                None   \n",
      "4      14700    +420 2 4172 5555    +420 2 4172 5555   \n",
      "\n",
      "                      Email  SupportRepId  \n",
      "0      luisg@embraer.com.br             3  \n",
      "1     leonekohler@surfeu.de             5  \n",
      "2       ftremblay@gmail.com             3  \n",
      "3     bjorn.hansen@yahoo.no             4  \n",
      "4  frantisekw@jetbrains.com             4  \n",
      "   InvoiceId  CustomerId          InvoiceDate           BillingAddress  \\\n",
      "0          1           2  2009-01-01 00:00:00  Theodor-Heuss-Straße 34   \n",
      "1          2           4  2009-01-02 00:00:00         Ullevålsveien 14   \n",
      "2          3           8  2009-01-03 00:00:00          Grétrystraat 63   \n",
      "3          4          14  2009-01-06 00:00:00           8210 111 ST NW   \n",
      "4          5          23  2009-01-11 00:00:00          69 Salem Street   \n",
      "\n",
      "  BillingCity BillingState BillingCountry BillingPostalCode  Total  \n",
      "0   Stuttgart         None        Germany             70174   1.98  \n",
      "1        Oslo         None         Norway              0171   3.96  \n",
      "2    Brussels         None        Belgium              1000   5.94  \n",
      "3    Edmonton           AB         Canada           T6G 2C7   8.91  \n",
      "4      Boston           MA            USA              2113  13.86  \n",
      "   InvoiceLineId  InvoiceId  TrackId  UnitPrice  Quantity\n",
      "0              1          1        2       0.99         1\n",
      "1              2          1        4       0.99         1\n",
      "2              3          2        6       0.99         1\n",
      "3              4          2        8       0.99         1\n",
      "4              5          2       10       0.99         1\n"
     ]
    }
   ],
   "source": [
    "# Sample queries to check table relationships\n",
    "print(pd.read_sql(\"SELECT * FROM Customer LIMIT 5\", con))\n",
    "print(pd.read_sql(\"SELECT * FROM Invoice LIMIT 5\", con))\n",
    "print(pd.read_sql(\"SELECT * FROM InvoiceLine LIMIT 5\", con))\n",
    "\n"
   ]
  },
  {
   "cell_type": "code",
   "execution_count": 7,
   "metadata": {},
   "outputs": [
    {
     "name": "stdout",
     "output_type": "stream",
     "text": [
      "  FirstName LastName  Total  Quantity\n",
      "0    Leonie   Köhler   1.98         1\n",
      "1    Leonie   Köhler   1.98         1\n",
      "2     Bjørn   Hansen   3.96         1\n",
      "3     Bjørn   Hansen   3.96         1\n",
      "4     Bjørn   Hansen   3.96         1\n",
      "5     Bjørn   Hansen   3.96         1\n",
      "6      Daan  Peeters   5.94         1\n",
      "7      Daan  Peeters   5.94         1\n",
      "8      Daan  Peeters   5.94         1\n",
      "9      Daan  Peeters   5.94         1\n"
     ]
    }
   ],
   "source": [
    "# Query joining three tables\n",
    "query1 = \"\"\"\n",
    "  SELECT Customer.FirstName, Customer.LastName, Invoice.Total, InvoiceLine.Quantity\n",
    "  FROM Customer\n",
    "  JOIN Invoice ON Customer.CustomerId = Invoice.CustomerId\n",
    "  JOIN InvoiceLine ON Invoice.InvoiceId = InvoiceLine.InvoiceId\n",
    "  LIMIT 10;\n",
    "\"\"\"\n",
    "print(pd.read_sql(query1, con))\n",
    "\n"
   ]
  },
  {
   "cell_type": "code",
   "execution_count": 8,
   "metadata": {},
   "outputs": [],
   "source": [
    "# Query with unindexed joins\n",
    "query2 = \"\"\"\n",
    "  SELECT *\n",
    "  FROM Customer\n",
    "  JOIN Invoice ON Customer.CustomerId = Invoice.CustomerId\n",
    "  JOIN InvoiceLine ON Invoice.InvoiceId = InvoiceLine.InvoiceId\n",
    "  JOIN Track ON InvoiceLine.TrackId = Track.TrackId;\n",
    "\"\"\"\n",
    "\n"
   ]
  },
  {
   "cell_type": "code",
   "execution_count": 9,
   "metadata": {},
   "outputs": [
    {
     "name": "stdout",
     "output_type": "stream",
     "text": [
      "Average execution time (unindexed): 0.02133641242980957\n"
     ]
    }
   ],
   "source": [
    "# Timing the unindexed query (average of 10 runs)\n",
    "times = []\n",
    "for _ in range(10):\n",
    "    start = time.time()\n",
    "    pd.read_sql(query2, con)\n",
    "    end = time.time()\n",
    "    times.append(end - start)\n",
    "\n",
    "avg_time_unindexed = sum(times) / len(times)\n",
    "print(\"Average execution time (unindexed):\", avg_time_unindexed)\n",
    "\n"
   ]
  },
  {
   "cell_type": "code",
   "execution_count": 10,
   "metadata": {},
   "outputs": [
    {
     "name": "stdout",
     "output_type": "stream",
     "text": [
      "Average execution time (indexed): 0.02290346622467041\n"
     ]
    }
   ],
   "source": [
    "# Creating indexes\n",
    "cur.execute(\"CREATE INDEX IF NOT EXISTS idx_customer_id ON Customer(CustomerId)\")\n",
    "cur.execute(\"CREATE INDEX IF NOT EXISTS idx_invoice_customer ON Invoice(CustomerId)\")\n",
    "cur.execute(\"CREATE INDEX IF NOT EXISTS idx_invoice_line_invoice ON InvoiceLine(InvoiceId)\")\n",
    "cur.execute(\"CREATE INDEX IF NOT EXISTS idx_invoice_line_track ON InvoiceLine(TrackId)\")\n",
    "con.commit()\n",
    "\n",
    "# Timing the indexed query (average of 10 runs)\n",
    "times = []\n",
    "for _ in range(10):\n",
    "    start = time.time()\n",
    "    pd.read_sql(query2, con)\n",
    "    end = time.time()\n",
    "    times.append(end - start)\n",
    "\n",
    "avg_time_indexed = sum(times) / len(times)\n",
    "print(\"Average execution time (indexed):\", avg_time_indexed)\n",
    "\n"
   ]
  },
  {
   "cell_type": "code",
   "execution_count": 12,
   "metadata": {},
   "outputs": [
    {
     "name": "stdout",
     "output_type": "stream",
     "text": [
      "   id  parent  notused                                             detail\n",
      "0   5       0        0                             SCAN TABLE InvoiceLine\n",
      "1   7       0        0  SEARCH TABLE Invoice USING INTEGER PRIMARY KEY...\n",
      "2  10       0        0  SEARCH TABLE Customer USING INTEGER PRIMARY KE...\n",
      "3  13       0        0  SEARCH TABLE Track USING INTEGER PRIMARY KEY (...\n"
     ]
    }
   ],
   "source": [
    "# Checking the query plan\n",
    "query_plan = pd.read_sql(\"EXPLAIN QUERY PLAN \" + query2, con)\n",
    "print(query_plan)\n",
    "\n",
    "\n",
    "\n"
   ]
  },
  {
   "cell_type": "code",
   "execution_count": 13,
   "metadata": {},
   "outputs": [
    {
     "data": {
      "image/png": "[encoded data removed]",
      "text/plain": [
       "<Figure size 640x480 with 1 Axes>"
      ]
     },
     "metadata": {},
     "output_type": "display_data"
    }
   ],
   "source": [
    "# Plot execution times\n",
    "plt.bar(['Unindexed', 'Indexed'], [avg_time_unindexed, avg_time_indexed], color=['red', 'green'])\n",
    "plt.ylabel(\"Execution Time (s)\")\n",
    "plt.title(\"Query Performance Before and After Indexing\")\n",
    "plt.show()"
   ]
  },
  {
   "cell_type": "code",
   "execution_count": null,
   "metadata": {},
   "outputs": [],
   "source": [
    "# Close connection\n",
    "con.close()"
   ]
  }
 ],
 "metadata": {
  "kernelspec": {
   "display_name": "Python 3",
   "language": "python",
   "name": "python3"
  },
  "language_info": {
   "codemirror_mode": {
    "name": "ipython",
    "version": 3
   },
   "file_extension": ".py",
   "mimetype": "text/x-python",
   "name": "python",
   "nbconvert_exporter": "python",
   "pygments_lexer": "ipython3",
   "version": "3.12.1"
  }
 },
 "nbformat": 4,
 "nbformat_minor": 2
}
